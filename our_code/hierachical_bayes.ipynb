{
 "cells": [
  {
   "cell_type": "code",
   "execution_count": 1,
   "metadata": {
    "vscode": {
     "languageId": "r"
    }
   },
   "outputs": [
    {
     "ename": "ERROR",
     "evalue": "Error in library(bmrs): 不存在叫'bmrs'这个名字的程辑包\n",
     "output_type": "error",
     "traceback": [
      "Error in library(bmrs): 不存在叫'bmrs'这个名字的程辑包\nTraceback:\n",
      "1. library(bmrs)"
     ]
    }
   ],
   "source": [
    "# import bmrs\n",
    "library(bmrs)"
   ]
  },
  {
   "cell_type": "code",
   "execution_count": 2,
   "metadata": {
    "vscode": {
     "languageId": "r"
    }
   },
   "outputs": [
    {
     "name": "stderr",
     "output_type": "stream",
     "text": [
      "Warning message:\n",
      "\"package 'bmrs' is not available for this version of R\n",
      "\n",
      "A version of this package for your version of R might be available elsewhere,\n",
      "see the ideas at\n",
      "https://cran.r-project.org/doc/manuals/r-patched/R-admin.html#Installing-packages\"\n"
     ]
    }
   ],
   "source": [
    "install.packages(\"bmrs\")"
   ]
  },
  {
   "cell_type": "code",
   "execution_count": 3,
   "metadata": {
    "vscode": {
     "languageId": "r"
    }
   },
   "outputs": [
    {
     "name": "stderr",
     "output_type": "stream",
     "text": [
      "Warning message:\n",
      "\"程辑包'tidyr'是用R版本4.2.3 来建造的\"\n",
      "Warning message:\n",
      "\"程辑包'brms'是用R版本4.2.3 来建造的\"\n",
      "载入需要的程辑包：Rcpp\n",
      "\n",
      "Warning message:\n",
      "\"程辑包'Rcpp'是用R版本4.2.3 来建造的\"\n",
      "Loading 'brms' package (version 2.21.0). Useful instructions\n",
      "can be found by typing help('brms'). A more detailed introduction\n",
      "to the package is available through vignette('brms_overview').\n",
      "\n",
      "\n",
      "载入程辑包：'brms'\n",
      "\n",
      "\n",
      "The following object is masked from 'package:stats':\n",
      "\n",
      "    ar\n",
      "\n",
      "\n",
      "Warning message:\n",
      "\"程辑包'dplyr'是用R版本4.2.3 来建造的\"\n",
      "\n",
      "载入程辑包：'dplyr'\n",
      "\n",
      "\n",
      "The following objects are masked from 'package:stats':\n",
      "\n",
      "    filter, lag\n",
      "\n",
      "\n",
      "The following objects are masked from 'package:base':\n",
      "\n",
      "    intersect, setdiff, setequal, union\n",
      "\n",
      "\n",
      "Warning message:\n",
      "\"程辑包'lme4'是用R版本4.2.3 来建造的\"\n",
      "载入需要的程辑包：Matrix\n",
      "\n",
      "\n",
      "载入程辑包：'Matrix'\n",
      "\n",
      "\n",
      "The following objects are masked from 'package:tidyr':\n",
      "\n",
      "    expand, pack, unpack\n",
      "\n",
      "\n",
      "\n",
      "载入程辑包：'lme4'\n",
      "\n",
      "\n",
      "The following object is masked from 'package:brms':\n",
      "\n",
      "    ngrps\n",
      "\n",
      "\n",
      "\n",
      "载入程辑包：'MASS'\n",
      "\n",
      "\n",
      "The following object is masked from 'package:dplyr':\n",
      "\n",
      "    select\n",
      "\n",
      "\n",
      "Warning message:\n",
      "\"程辑包'kableExtra'是用R版本4.2.3 来建造的\"\n",
      "\n",
      "载入程辑包：'kableExtra'\n",
      "\n",
      "\n",
      "The following object is masked from 'package:dplyr':\n",
      "\n",
      "    group_rows\n",
      "\n",
      "\n",
      "Warning message:\n",
      "\"程辑包'tidyverse'是用R版本4.2.3 来建造的\"\n",
      "Warning message:\n",
      "\"程辑包'ggplot2'是用R版本4.2.3 来建造的\"\n",
      "Warning message:\n",
      "\"程辑包'tibble'是用R版本4.2.3 来建造的\"\n",
      "Warning message:\n",
      "\"程辑包'readr'是用R版本4.2.3 来建造的\"\n",
      "Warning message:\n",
      "\"程辑包'purrr'是用R版本4.2.3 来建造的\"\n",
      "Warning message:\n",
      "\"程辑包'forcats'是用R版本4.2.3 来建造的\"\n",
      "Warning message:\n",
      "\"程辑包'lubridate'是用R版本4.2.3 来建造的\"\n",
      "── \u001b[1mAttaching core tidyverse packages\u001b[22m ──────────────────────── tidyverse 2.0.0 ──\n",
      "\u001b[32m✔\u001b[39m \u001b[34mforcats  \u001b[39m 1.0.0     \u001b[32m✔\u001b[39m \u001b[34mreadr    \u001b[39m 2.1.4\n",
      "\u001b[32m✔\u001b[39m \u001b[34mggplot2  \u001b[39m 3.4.2     \u001b[32m✔\u001b[39m \u001b[34mstringr  \u001b[39m 1.5.0\n",
      "\u001b[32m✔\u001b[39m \u001b[34mlubridate\u001b[39m 1.9.2     \u001b[32m✔\u001b[39m \u001b[34mtibble   \u001b[39m 3.2.1\n",
      "\u001b[32m✔\u001b[39m \u001b[34mpurrr    \u001b[39m 1.0.1     \n",
      "── \u001b[1mConflicts\u001b[22m ────────────────────────────────────────── tidyverse_conflicts() ──\n",
      "\u001b[31m✖\u001b[39m \u001b[34mMatrix\u001b[39m::\u001b[32mexpand()\u001b[39m         masks \u001b[34mtidyr\u001b[39m::expand()\n",
      "\u001b[31m✖\u001b[39m \u001b[34mdplyr\u001b[39m::\u001b[32mfilter()\u001b[39m          masks \u001b[34mstats\u001b[39m::filter()\n",
      "\u001b[31m✖\u001b[39m \u001b[34mkableExtra\u001b[39m::\u001b[32mgroup_rows()\u001b[39m masks \u001b[34mdplyr\u001b[39m::group_rows()\n",
      "\u001b[31m✖\u001b[39m \u001b[34mdplyr\u001b[39m::\u001b[32mlag()\u001b[39m             masks \u001b[34mstats\u001b[39m::lag()\n",
      "\u001b[31m✖\u001b[39m \u001b[34mMatrix\u001b[39m::\u001b[32mpack()\u001b[39m           masks \u001b[34mtidyr\u001b[39m::pack()\n",
      "\u001b[31m✖\u001b[39m \u001b[34mMASS\u001b[39m::\u001b[32mselect()\u001b[39m           masks \u001b[34mdplyr\u001b[39m::select()\n",
      "\u001b[31m✖\u001b[39m \u001b[34mMatrix\u001b[39m::\u001b[32munpack()\u001b[39m         masks \u001b[34mtidyr\u001b[39m::unpack()\n",
      "\u001b[36mℹ\u001b[39m Use the conflicted package (\u001b[3m\u001b[34m<http://conflicted.r-lib.org/>\u001b[39m\u001b[23m) to force all conflicts to become errors\n",
      "Warning message:\n",
      "\"程辑包'broom'是用R版本4.2.3 来建造的\"\n"
     ]
    }
   ],
   "source": [
    "library(tidyr)\n",
    "library(brms)\n",
    "library(dplyr)\n",
    "library(lme4)\n",
    "library(MASS)\n",
    "library(kableExtra)\n",
    "library(tidyverse)\n",
    "library(broom)"
   ]
  },
  {
   "cell_type": "code",
   "execution_count": 4,
   "metadata": {
    "vscode": {
     "languageId": "r"
    }
   },
   "outputs": [],
   "source": [
    "data <- read.csv(\"data_ml/SharedResponses_combined_two_genders.csv\")"
   ]
  },
  {
   "cell_type": "code",
   "execution_count": 5,
   "metadata": {
    "vscode": {
     "languageId": "r"
    }
   },
   "outputs": [],
   "source": [
    "data <- distinct(data)\n",
    "data <- data %>% drop_na()\n",
    "drops <- c(\"ResponseID\", \"ExtendedSessionID\", \"UserID\", \"Review_political\")\n",
    "data <- data[ , !(names(data) %in% drops)]\n",
    "data$Saved <- factor(data$Saved)\n",
    "data$Review_political_cat <- factor(data$Review_political_cat)"
   ]
  },
  {
   "cell_type": "code",
   "execution_count": 12,
   "metadata": {
    "vscode": {
     "languageId": "r"
    }
   },
   "outputs": [
    {
     "name": "stderr",
     "output_type": "stream",
     "text": [
      "Compiling Stan program...\n",
      "\n",
      "WARNING: Rtools is required to build R packages, but is not currently installed.\n",
      "\n",
      "Please download and install Rtools 4.2 from https://cran.r-project.org/bin/windows/Rtools/.\n",
      "\n",
      "WARNING: Rtools is required to build R packages, but is not currently installed.\n",
      "\n",
      "Please download and install Rtools 4.2 from https://cran.r-project.org/bin/windows/Rtools/.\n",
      "\n"
     ]
    },
    {
     "name": "stdout",
     "output_type": "stream",
     "text": [
      "Scanning R CMD config CC...\n",
      "cc_path:  \n",
      "'' does not exist\n",
      "Scanning path...\n",
      "Scanning registry...\n"
     ]
    },
    {
     "name": "stderr",
     "output_type": "stream",
     "text": [
      "WARNING: Rtools is required to build R packages, but is not currently installed.\n",
      "\n",
      "Please download and install Rtools 4.2 from https://cran.r-project.org/bin/windows/Rtools/.\n",
      "\n"
     ]
    },
    {
     "name": "stdout",
     "output_type": "stream",
     "text": [
      "Scanning R CMD config CC...\n",
      "cc_path:  \n",
      "'' does not exist\n",
      "Scanning path...\n",
      "Scanning registry...\n"
     ]
    },
    {
     "name": "stderr",
     "output_type": "stream",
     "text": [
      "WARNING: Rtools is required to build R packages, but is not currently installed.\n",
      "\n",
      "Please download and install Rtools 4.2 from https://cran.r-project.org/bin/windows/Rtools/.\n",
      "\n",
      "WARNING: Rtools is required to build R packages, but is not currently installed.\n",
      "\n",
      "Please download and install Rtools 4.2 from https://cran.r-project.org/bin/windows/Rtools/.\n",
      "\n"
     ]
    },
    {
     "ename": "ERROR",
     "evalue": "Error in compileCode(f, code, language = language, verbose = verbose): Warning message:In system(cmd) : 'make' not found\n",
     "output_type": "error",
     "traceback": [
      "Error in compileCode(f, code, language = language, verbose = verbose): Warning message:In system(cmd) : 'make' not found\nTraceback:\n",
      "1. brm(formula = Saved ~ 1 + (1 | Review_political_cat), data = data, \n .     family = bernoulli(\"logit\"), prior = priors, chains = 4, \n .     iter = 2000, seed = 123)",
      "2. do_call(compile_model, compile_args)",
      "3. eval2(call, envir = args, enclos = envir)",
      "4. eval(expr, envir, ...)",
      "5. eval(expr, envir, ...)",
      "6. .fun(model = .x1, backend = .x2, threads = .x3, opencl = .x4, \n .     silent = .x5)",
      "7. .compile_model(model, ...)",
      "8. eval_silent(do_call(rstan::stan_model, args), type = \"message\", \n .     try = TRUE, silent = silent >= 2)",
      "9. eval(expr, envir)",
      "10. eval(expr, envir)",
      "11. do_call(rstan::stan_model, args)",
      "12. eval2(call, envir = args, enclos = envir)",
      "13. eval(expr, envir, ...)",
      "14. eval(expr, envir, ...)",
      "15. .fun(model_code = .x1)",
      "16. cxxfunctionplus(signature(), body = paste(\" return Rcpp::wrap(\\\"\", \n  .     model_name, \"\\\");\", sep = \"\"), includes = inc, plugin = \"rstan\", \n  .     save_dso = save_dso | auto_write, module_name = paste(\"stan_fit4\", \n  .         model_cppname, \"_mod\", sep = \"\"), verbose = verbose)",
      "17. pkgbuild::with_build_tools(cxxfunction(sig = sig, body = body, \n  .     plugin = plugin, includes = includes, settings = settings, \n  .     ..., verbose = verbose), required = rstan_options(\"required\") && \n  .     !identical(Sys.getenv(\"WINDOWS\"), \"TRUE\") && !identical(Sys.getenv(\"R_PACKAGE_SOURCE\"), \n  .     \"\"))",
      "18. cxxfunction(sig = sig, body = body, plugin = plugin, includes = includes, \n  .     settings = settings, ..., verbose = verbose)",
      "19. compileCode(f, code, language = language, verbose = verbose)",
      "20. stop(errmsg)"
     ]
    },
    {
     "ename": "ERROR",
     "evalue": "Error in sink(type = \"output\"): 链结不对\n",
     "output_type": "error",
     "traceback": [
      "Error in sink(type = \"output\"): 链结不对\nTraceback:\n",
      "1. brm(formula = Saved ~ 1 + (1 | Review_political_cat), data = data, \n .     family = bernoulli(\"logit\"), prior = priors, chains = 4, \n .     iter = 2000, seed = 123)",
      "2. do_call(compile_model, compile_args)",
      "3. eval2(call, envir = args, enclos = envir)",
      "4. eval(expr, envir, ...)",
      "5. eval(expr, envir, ...)",
      "6. .fun(model = .x1, backend = .x2, threads = .x3, opencl = .x4, \n .     silent = .x5)",
      "7. .compile_model(model, ...)",
      "8. eval_silent(do_call(rstan::stan_model, args), type = \"message\", \n .     try = TRUE, silent = silent >= 2)",
      "9. eval(expr, envir)",
      "10. eval(expr, envir)",
      "11. do_call(rstan::stan_model, args)",
      "12. eval2(call, envir = args, enclos = envir)",
      "13. eval(expr, envir, ...)",
      "14. eval(expr, envir, ...)",
      "15. .fun(model_code = .x1)",
      "16. cxxfunctionplus(signature(), body = paste(\" return Rcpp::wrap(\\\"\", \n  .     model_name, \"\\\");\", sep = \"\"), includes = inc, plugin = \"rstan\", \n  .     save_dso = save_dso | auto_write, module_name = paste(\"stan_fit4\", \n  .         model_cppname, \"_mod\", sep = \"\"), verbose = verbose)",
      "17. sink(type = \"output\")"
     ]
    }
   ],
   "source": [
    "priors <- c(\n",
    "  prior(normal(0, 1), class = \"Intercept\"), # Prior for the global intercept\n",
    "  prior(student_t(1, 0, 2.5), class = \"sd\") # Prior for standard deviations of random effects\n",
    ")\n",
    "\n",
    "# Define the model\n",
    "model_hierarchical <- brm(\n",
    "  formula = Saved ~ 1 + (1 | Review_political_cat), # Model formula\n",
    "  data = data,\n",
    "  family = bernoulli(\"logit\"), # Assuming 'Saved' is binary; using logistic regression\n",
    "  prior = priors,\n",
    "  chains = 4,\n",
    "  iter = 2000,\n",
    "  seed = 123\n",
    ")\n",
    "\n",
    "# Summary of the model\n",
    "summary(model_hierarchical)"
   ]
  },
  {
   "cell_type": "code",
   "execution_count": 6,
   "metadata": {
    "vscode": {
     "languageId": "r"
    }
   },
   "outputs": [
    {
     "data": {
      "text/html": [
       "<table class=\"dataframe\">\n",
       "<caption>A brmsprior: 4 × 10</caption>\n",
       "<thead>\n",
       "\t<tr><th scope=col>prior</th><th scope=col>class</th><th scope=col>coef</th><th scope=col>group</th><th scope=col>resp</th><th scope=col>dpar</th><th scope=col>nlpar</th><th scope=col>lb</th><th scope=col>ub</th><th scope=col>source</th></tr>\n",
       "\t<tr><th scope=col>&lt;chr&gt;</th><th scope=col>&lt;chr&gt;</th><th scope=col>&lt;chr&gt;</th><th scope=col>&lt;chr&gt;</th><th scope=col>&lt;chr&gt;</th><th scope=col>&lt;chr&gt;</th><th scope=col>&lt;chr&gt;</th><th scope=col>&lt;chr&gt;</th><th scope=col>&lt;chr&gt;</th><th scope=col>&lt;chr&gt;</th></tr>\n",
       "</thead>\n",
       "<tbody>\n",
       "\t<tr><td>student_t(3, 0, 2.5)</td><td>Intercept</td><td>         </td><td>                    </td><td></td><td></td><td></td><td> </td><td></td><td>default</td></tr>\n",
       "\t<tr><td>student_t(3, 0, 2.5)</td><td>sd       </td><td>         </td><td>                    </td><td></td><td></td><td></td><td>0</td><td></td><td>default</td></tr>\n",
       "\t<tr><td>                    </td><td>sd       </td><td>         </td><td>Review_political_cat</td><td></td><td></td><td></td><td> </td><td></td><td>default</td></tr>\n",
       "\t<tr><td>                    </td><td>sd       </td><td>Intercept</td><td>Review_political_cat</td><td></td><td></td><td></td><td> </td><td></td><td>default</td></tr>\n",
       "</tbody>\n",
       "</table>\n"
      ],
      "text/latex": [
       "A brmsprior: 4 × 10\n",
       "\\begin{tabular}{llllllllll}\n",
       " prior & class & coef & group & resp & dpar & nlpar & lb & ub & source\\\\\n",
       " <chr> & <chr> & <chr> & <chr> & <chr> & <chr> & <chr> & <chr> & <chr> & <chr>\\\\\n",
       "\\hline\n",
       "\t student\\_t(3, 0, 2.5) & Intercept &           &                      &  &  &  &   &  & default\\\\\n",
       "\t student\\_t(3, 0, 2.5) & sd        &           &                      &  &  &  & 0 &  & default\\\\\n",
       "\t                      & sd        &           & Review\\_political\\_cat &  &  &  &   &  & default\\\\\n",
       "\t                      & sd        & Intercept & Review\\_political\\_cat &  &  &  &   &  & default\\\\\n",
       "\\end{tabular}\n"
      ],
      "text/markdown": [
       "\n",
       "A brmsprior: 4 × 10\n",
       "\n",
       "| prior &lt;chr&gt; | class &lt;chr&gt; | coef &lt;chr&gt; | group &lt;chr&gt; | resp &lt;chr&gt; | dpar &lt;chr&gt; | nlpar &lt;chr&gt; | lb &lt;chr&gt; | ub &lt;chr&gt; | source &lt;chr&gt; |\n",
       "|---|---|---|---|---|---|---|---|---|---|\n",
       "| student_t(3, 0, 2.5) | Intercept | <!----> | <!----> | <!----> | <!----> | <!----> | <!----> | <!----> | default |\n",
       "| student_t(3, 0, 2.5) | sd        | <!----> | <!----> | <!----> | <!----> | <!----> | 0 | <!----> | default |\n",
       "| <!----> | sd        | <!----> | Review_political_cat | <!----> | <!----> | <!----> | <!----> | <!----> | default |\n",
       "| <!----> | sd        | Intercept | Review_political_cat | <!----> | <!----> | <!----> | <!----> | <!----> | default |\n",
       "\n"
      ],
      "text/plain": [
       "  prior                class     coef      group                resp dpar nlpar\n",
       "1 student_t(3, 0, 2.5) Intercept                                               \n",
       "2 student_t(3, 0, 2.5) sd                                                      \n",
       "3                      sd                  Review_political_cat                \n",
       "4                      sd        Intercept Review_political_cat                \n",
       "  lb ub source \n",
       "1       default\n",
       "2 0     default\n",
       "3       default\n",
       "4       default"
      ]
     },
     "metadata": {},
     "output_type": "display_data"
    }
   ],
   "source": [
    "get_prior(Saved ~ 1 + (1 | Review_political_cat), data = data, family = bernoulli())\n"
   ]
  },
  {
   "cell_type": "code",
   "execution_count": 9,
   "metadata": {
    "vscode": {
     "languageId": "r"
    }
   },
   "outputs": [
    {
     "name": "stderr",
     "output_type": "stream",
     "text": [
      "Compiling Stan program...\n",
      "\n"
     ]
    },
    {
     "ename": "ERROR",
     "evalue": "Error in stanc(file = file, model_code = model_code, model_name = model_name, : 0\nSemantic error in 'string', line 38, column 12 to column 43:\n   -------------------------------------------------\n    36:    lprior += normal_lpdf(b | 0, 2.5);\n    37:    lprior += normal_lpdf(Intercept | 0, 1);\n    38:    lprior += half_cauchy_lpdf(sd_1 | 0, 2.5)\n                     ^\n    39:      - 1 * half_cauchy_lccdf(0 | 0, 2.5);\n    40:  }\n   -------------------------------------------------\n\nA returning function was expected but an undeclared identifier 'half_cauchy_lpdf' was supplied.\n\n",
     "output_type": "error",
     "traceback": [
      "Error in stanc(file = file, model_code = model_code, model_name = model_name, : 0\nSemantic error in 'string', line 38, column 12 to column 43:\n   -------------------------------------------------\n    36:    lprior += normal_lpdf(b | 0, 2.5);\n    37:    lprior += normal_lpdf(Intercept | 0, 1);\n    38:    lprior += half_cauchy_lpdf(sd_1 | 0, 2.5)\n                     ^\n    39:      - 1 * half_cauchy_lccdf(0 | 0, 2.5);\n    40:  }\n   -------------------------------------------------\n\nA returning function was expected but an undeclared identifier 'half_cauchy_lpdf' was supplied.\n\nTraceback:\n",
      "1. brm(Saved ~ 1 + . + (1 | Review_political_cat), data = data, \n .     family = bernoulli(), prior = priors, chains = 4, iter = 2000, \n .     seed = 123)",
      "2. do_call(compile_model, compile_args)",
      "3. eval2(call, envir = args, enclos = envir)",
      "4. eval(expr, envir, ...)",
      "5. eval(expr, envir, ...)",
      "6. .fun(model = .x1, backend = .x2, threads = .x3, opencl = .x4, \n .     silent = .x5)",
      "7. .compile_model(model, ...)",
      "8. eval_silent(do_call(rstan::stan_model, args), type = \"message\", \n .     try = TRUE, silent = silent >= 2)",
      "9. eval(expr, envir)",
      "10. eval(expr, envir)",
      "11. do_call(rstan::stan_model, args)",
      "12. eval2(call, envir = args, enclos = envir)",
      "13. eval(expr, envir, ...)",
      "14. eval(expr, envir, ...)",
      "15. .fun(model_code = .x1)",
      "16. stanc(file = file, model_code = model_code, model_name = model_name, \n  .     verbose = verbose, obfuscate_model_name = obfuscate_model_name, \n  .     allow_undefined = allow_undefined, allow_optimizations = allow_optimizations, \n  .     standalone_functions = standalone_functions, use_opencl = use_opencl, \n  .     warn_pedantic = warn_pedantic, warn_uninitialized = warn_uninitialized, \n  .     isystem = isystem)",
      "17. stop(paste(model_cppcode$errors, collapse = \"\\n\"))"
     ]
    }
   ],
   "source": [
    "priors <- c(\n",
    "  prior(normal(0, 2.5), class = \"b\"), # For fixed effects\n",
    "  prior(normal(0, 1), class = \"Intercept\"),\n",
    "  prior(half_cauchy(0, 2.5), class = \"sd\") # For random effects standard deviation\n",
    ")\n",
    "\n",
    "model_hierarchical <- brm(\n",
    "  Saved ~ 1 + . + (1 | Review_political_cat),\n",
    "  data = data,\n",
    "  family = bernoulli(),\n",
    "  prior = priors,\n",
    "  chains = 4,\n",
    "  iter = 2000,\n",
    "  seed = 123\n",
    ")"
   ]
  },
  {
   "cell_type": "code",
   "execution_count": 10,
   "metadata": {
    "vscode": {
     "languageId": "r"
    }
   },
   "outputs": [
    {
     "name": "stderr",
     "output_type": "stream",
     "text": [
      "Compiling Stan program...\n",
      "\n",
      "WARNING: Rtools is required to build R packages, but is not currently installed.\n",
      "\n",
      "Please download and install Rtools 4.2 from https://cran.r-project.org/bin/windows/Rtools/.\n",
      "\n",
      "WARNING: Rtools is required to build R packages, but is not currently installed.\n",
      "\n",
      "Please download and install Rtools 4.2 from https://cran.r-project.org/bin/windows/Rtools/.\n",
      "\n"
     ]
    },
    {
     "name": "stdout",
     "output_type": "stream",
     "text": [
      "Scanning R CMD config CC...\n",
      "cc_path:  \n",
      "'' does not exist\n",
      "Scanning path...\n",
      "Scanning registry...\n"
     ]
    },
    {
     "name": "stderr",
     "output_type": "stream",
     "text": [
      "WARNING: Rtools is required to build R packages, but is not currently installed.\n",
      "\n",
      "Please download and install Rtools 4.2 from https://cran.r-project.org/bin/windows/Rtools/.\n",
      "\n"
     ]
    },
    {
     "name": "stdout",
     "output_type": "stream",
     "text": [
      "Scanning R CMD config CC...\n",
      "cc_path:  \n",
      "'' does not exist\n",
      "Scanning path...\n",
      "Scanning registry...\n"
     ]
    },
    {
     "name": "stderr",
     "output_type": "stream",
     "text": [
      "WARNING: Rtools is required to build R packages, but is not currently installed.\n",
      "\n",
      "Please download and install Rtools 4.2 from https://cran.r-project.org/bin/windows/Rtools/.\n",
      "\n",
      "WARNING: Rtools is required to build R packages, but is not currently installed.\n",
      "\n",
      "Please download and install Rtools 4.2 from https://cran.r-project.org/bin/windows/Rtools/.\n",
      "\n"
     ]
    },
    {
     "ename": "ERROR",
     "evalue": "Error in compileCode(f, code, language = language, verbose = verbose): Warning message:In system(cmd) : 'make' not found\n",
     "output_type": "error",
     "traceback": [
      "Error in compileCode(f, code, language = language, verbose = verbose): Warning message:In system(cmd) : 'make' not found\nTraceback:\n",
      "1. brm(formula = Saved ~ 1 + . + (1 | Review_political_cat), data = data, \n .     family = bernoulli(), prior = priors, chains = 4, iter = 2000, \n .     seed = 123)",
      "2. do_call(compile_model, compile_args)",
      "3. eval2(call, envir = args, enclos = envir)",
      "4. eval(expr, envir, ...)",
      "5. eval(expr, envir, ...)",
      "6. .fun(model = .x1, backend = .x2, threads = .x3, opencl = .x4, \n .     silent = .x5)",
      "7. .compile_model(model, ...)",
      "8. eval_silent(do_call(rstan::stan_model, args), type = \"message\", \n .     try = TRUE, silent = silent >= 2)",
      "9. eval(expr, envir)",
      "10. eval(expr, envir)",
      "11. do_call(rstan::stan_model, args)",
      "12. eval2(call, envir = args, enclos = envir)",
      "13. eval(expr, envir, ...)",
      "14. eval(expr, envir, ...)",
      "15. .fun(model_code = .x1)",
      "16. cxxfunctionplus(signature(), body = paste(\" return Rcpp::wrap(\\\"\", \n  .     model_name, \"\\\");\", sep = \"\"), includes = inc, plugin = \"rstan\", \n  .     save_dso = save_dso | auto_write, module_name = paste(\"stan_fit4\", \n  .         model_cppname, \"_mod\", sep = \"\"), verbose = verbose)",
      "17. pkgbuild::with_build_tools(cxxfunction(sig = sig, body = body, \n  .     plugin = plugin, includes = includes, settings = settings, \n  .     ..., verbose = verbose), required = rstan_options(\"required\") && \n  .     !identical(Sys.getenv(\"WINDOWS\"), \"TRUE\") && !identical(Sys.getenv(\"R_PACKAGE_SOURCE\"), \n  .     \"\"))",
      "18. cxxfunction(sig = sig, body = body, plugin = plugin, includes = includes, \n  .     settings = settings, ..., verbose = verbose)",
      "19. compileCode(f, code, language = language, verbose = verbose)",
      "20. stop(errmsg)"
     ]
    },
    {
     "ename": "ERROR",
     "evalue": "Error in sink(type = \"output\"): 链结不对\n",
     "output_type": "error",
     "traceback": [
      "Error in sink(type = \"output\"): 链结不对\nTraceback:\n",
      "1. brm(formula = Saved ~ 1 + . + (1 | Review_political_cat), data = data, \n .     family = bernoulli(), prior = priors, chains = 4, iter = 2000, \n .     seed = 123)",
      "2. do_call(compile_model, compile_args)",
      "3. eval2(call, envir = args, enclos = envir)",
      "4. eval(expr, envir, ...)",
      "5. eval(expr, envir, ...)",
      "6. .fun(model = .x1, backend = .x2, threads = .x3, opencl = .x4, \n .     silent = .x5)",
      "7. .compile_model(model, ...)",
      "8. eval_silent(do_call(rstan::stan_model, args), type = \"message\", \n .     try = TRUE, silent = silent >= 2)",
      "9. eval(expr, envir)",
      "10. eval(expr, envir)",
      "11. do_call(rstan::stan_model, args)",
      "12. eval2(call, envir = args, enclos = envir)",
      "13. eval(expr, envir, ...)",
      "14. eval(expr, envir, ...)",
      "15. .fun(model_code = .x1)",
      "16. cxxfunctionplus(signature(), body = paste(\" return Rcpp::wrap(\\\"\", \n  .     model_name, \"\\\");\", sep = \"\"), includes = inc, plugin = \"rstan\", \n  .     save_dso = save_dso | auto_write, module_name = paste(\"stan_fit4\", \n  .         model_cppname, \"_mod\", sep = \"\"), verbose = verbose)",
      "17. sink(type = \"output\")"
     ]
    }
   ],
   "source": [
    "priors <- c(\n",
    "  prior(normal(0, 2.5), class = \"b\"), # For fixed effects\n",
    "  prior(normal(0, 1), class = \"Intercept\"),\n",
    "  prior(student_t(1, 0, 2.5), class = \"sd\") # Alternative to half-Cauchy\n",
    ")\n",
    "\n",
    "model_hierarchical <- brm(\n",
    "  formula = Saved ~ 1 + . + (1 | Review_political_cat),\n",
    "  data = data,\n",
    "  family = bernoulli(),\n",
    "  prior = priors,\n",
    "  chains = 4,\n",
    "  iter = 2000,\n",
    "  seed = 123\n",
    ")\n"
   ]
  },
  {
   "cell_type": "code",
   "execution_count": null,
   "metadata": {
    "vscode": {
     "languageId": "r"
    }
   },
   "outputs": [],
   "source": []
  }
 ],
 "metadata": {
  "kernelspec": {
   "display_name": "R",
   "language": "R",
   "name": "ir"
  },
  "language_info": {
   "codemirror_mode": "r",
   "file_extension": ".r",
   "mimetype": "text/x-r-source",
   "name": "R",
   "pygments_lexer": "r",
   "version": "4.2.2"
  }
 },
 "nbformat": 4,
 "nbformat_minor": 2
}
