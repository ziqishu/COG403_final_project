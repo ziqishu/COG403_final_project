{
 "cells": [
  {
   "cell_type": "code",
   "execution_count": null,
   "metadata": {
    "vscode": {
     "languageId": "r"
    }
   },
   "outputs": [],
   "source": [
    "library(tidyr)\n",
    "library(brms)\n",
    "library(dplyr)\n",
    "library(lme4)\n",
    "library(MASS)\n",
    "library(kableExtra)\n",
    "library(tidyverse)\n",
    "library(broom)"
   ]
  },
  {
   "cell_type": "code",
   "execution_count": 2,
   "metadata": {
    "vscode": {
     "languageId": "r"
    }
   },
   "outputs": [],
   "source": [
    "data <- read.csv(\"data_ml/SharedResponses_combined_two_genders.csv\")"
   ]
  },
  {
   "cell_type": "code",
   "execution_count": 3,
   "metadata": {
    "vscode": {
     "languageId": "r"
    }
   },
   "outputs": [],
   "source": [
    "data <- distinct(data)\n",
    "data <- data %>% drop_na()\n",
    "drops <- c(\"ResponseID\", \"ExtendedSessionID\", \"UserID\", \"Review_political\")\n",
    "data <- data[ , !(names(data) %in% drops)]\n",
    "data$Saved <- factor(data$Saved)\n",
    "data$Review_political_cat <- factor(data$Review_political_cat)"
   ]
  },
  {
   "cell_type": "code",
   "execution_count": 4,
   "metadata": {
    "vscode": {
     "languageId": "r"
    }
   },
   "outputs": [
    {
     "name": "stderr",
     "output_type": "stream",
     "text": [
      "Compiling Stan program...\n",
      "\n",
      "Start sampling\n",
      "\n"
     ]
    },
    {
     "name": "stdout",
     "output_type": "stream",
     "text": [
      "\n",
      "SAMPLING FOR MODEL 'anon_model' NOW (CHAIN 1).\n",
      "Chain 1: \n",
      "Chain 1: Gradient evaluation took 0.000183 seconds\n",
      "Chain 1: 1000 transitions using 10 leapfrog steps per transition would take 1.83 seconds.\n",
      "Chain 1: Adjust your expectations accordingly!\n",
      "Chain 1: \n",
      "Chain 1: \n",
      "Chain 1: Iteration:    1 / 2000 [  0%]  (Warmup)\n",
      "Chain 1: Iteration:  200 / 2000 [ 10%]  (Warmup)\n",
      "Chain 1: Iteration:  400 / 2000 [ 20%]  (Warmup)\n",
      "Chain 1: Iteration:  600 / 2000 [ 30%]  (Warmup)\n",
      "Chain 1: Iteration:  800 / 2000 [ 40%]  (Warmup)\n",
      "Chain 1: Iteration: 1000 / 2000 [ 50%]  (Warmup)\n",
      "Chain 1: Iteration: 1001 / 2000 [ 50%]  (Sampling)\n",
      "Chain 1: Iteration: 1200 / 2000 [ 60%]  (Sampling)\n",
      "Chain 1: Iteration: 1400 / 2000 [ 70%]  (Sampling)\n",
      "Chain 1: Iteration: 1600 / 2000 [ 80%]  (Sampling)\n",
      "Chain 1: Iteration: 1800 / 2000 [ 90%]  (Sampling)\n",
      "Chain 1: Iteration: 2000 / 2000 [100%]  (Sampling)\n",
      "Chain 1: \n",
      "Chain 1:  Elapsed Time: 2.789 seconds (Warm-up)\n",
      "Chain 1:                1.772 seconds (Sampling)\n",
      "Chain 1:                4.561 seconds (Total)\n",
      "Chain 1: \n",
      "\n",
      "SAMPLING FOR MODEL 'anon_model' NOW (CHAIN 2).\n",
      "Chain 2: \n",
      "Chain 2: Gradient evaluation took 0.000141 seconds\n",
      "Chain 2: 1000 transitions using 10 leapfrog steps per transition would take 1.41 seconds.\n",
      "Chain 2: Adjust your expectations accordingly!\n",
      "Chain 2: \n",
      "Chain 2: \n",
      "Chain 2: Iteration:    1 / 2000 [  0%]  (Warmup)\n",
      "Chain 2: Iteration:  200 / 2000 [ 10%]  (Warmup)\n",
      "Chain 2: Iteration:  400 / 2000 [ 20%]  (Warmup)\n",
      "Chain 2: Iteration:  600 / 2000 [ 30%]  (Warmup)\n",
      "Chain 2: Iteration:  800 / 2000 [ 40%]  (Warmup)\n",
      "Chain 2: Iteration: 1000 / 2000 [ 50%]  (Warmup)\n",
      "Chain 2: Iteration: 1001 / 2000 [ 50%]  (Sampling)\n",
      "Chain 2: Iteration: 1200 / 2000 [ 60%]  (Sampling)\n",
      "Chain 2: Iteration: 1400 / 2000 [ 70%]  (Sampling)\n",
      "Chain 2: Iteration: 1600 / 2000 [ 80%]  (Sampling)\n",
      "Chain 2: Iteration: 1800 / 2000 [ 90%]  (Sampling)\n",
      "Chain 2: Iteration: 2000 / 2000 [100%]  (Sampling)\n",
      "Chain 2: \n",
      "Chain 2:  Elapsed Time: 2.903 seconds (Warm-up)\n",
      "Chain 2:                2.122 seconds (Sampling)\n",
      "Chain 2:                5.025 seconds (Total)\n",
      "Chain 2: \n",
      "\n",
      "SAMPLING FOR MODEL 'anon_model' NOW (CHAIN 3).\n",
      "Chain 3: \n",
      "Chain 3: Gradient evaluation took 0.000149 seconds\n",
      "Chain 3: 1000 transitions using 10 leapfrog steps per transition would take 1.49 seconds.\n",
      "Chain 3: Adjust your expectations accordingly!\n",
      "Chain 3: \n",
      "Chain 3: \n",
      "Chain 3: Iteration:    1 / 2000 [  0%]  (Warmup)\n",
      "Chain 3: Iteration:  200 / 2000 [ 10%]  (Warmup)\n",
      "Chain 3: Iteration:  400 / 2000 [ 20%]  (Warmup)\n",
      "Chain 3: Iteration:  600 / 2000 [ 30%]  (Warmup)\n",
      "Chain 3: Iteration:  800 / 2000 [ 40%]  (Warmup)\n",
      "Chain 3: Iteration: 1000 / 2000 [ 50%]  (Warmup)\n",
      "Chain 3: Iteration: 1001 / 2000 [ 50%]  (Sampling)\n",
      "Chain 3: Iteration: 1200 / 2000 [ 60%]  (Sampling)\n",
      "Chain 3: Iteration: 1400 / 2000 [ 70%]  (Sampling)\n",
      "Chain 3: Iteration: 1600 / 2000 [ 80%]  (Sampling)\n",
      "Chain 3: Iteration: 1800 / 2000 [ 90%]  (Sampling)\n",
      "Chain 3: Iteration: 2000 / 2000 [100%]  (Sampling)\n",
      "Chain 3: \n",
      "Chain 3:  Elapsed Time: 3.007 seconds (Warm-up)\n",
      "Chain 3:                2.121 seconds (Sampling)\n",
      "Chain 3:                5.128 seconds (Total)\n",
      "Chain 3: \n",
      "\n",
      "SAMPLING FOR MODEL 'anon_model' NOW (CHAIN 4).\n",
      "Chain 4: \n",
      "Chain 4: Gradient evaluation took 0.000149 seconds\n",
      "Chain 4: 1000 transitions using 10 leapfrog steps per transition would take 1.49 seconds.\n",
      "Chain 4: Adjust your expectations accordingly!\n",
      "Chain 4: \n",
      "Chain 4: \n",
      "Chain 4: Iteration:    1 / 2000 [  0%]  (Warmup)\n",
      "Chain 4: Iteration:  200 / 2000 [ 10%]  (Warmup)\n",
      "Chain 4: Iteration:  400 / 2000 [ 20%]  (Warmup)\n",
      "Chain 4: Iteration:  600 / 2000 [ 30%]  (Warmup)\n",
      "Chain 4: Iteration:  800 / 2000 [ 40%]  (Warmup)\n",
      "Chain 4: Iteration: 1000 / 2000 [ 50%]  (Warmup)\n",
      "Chain 4: Iteration: 1001 / 2000 [ 50%]  (Sampling)\n",
      "Chain 4: Iteration: 1200 / 2000 [ 60%]  (Sampling)\n",
      "Chain 4: Iteration: 1400 / 2000 [ 70%]  (Sampling)\n",
      "Chain 4: Iteration: 1600 / 2000 [ 80%]  (Sampling)\n",
      "Chain 4: Iteration: 1800 / 2000 [ 90%]  (Sampling)\n",
      "Chain 4: Iteration: 2000 / 2000 [100%]  (Sampling)\n",
      "Chain 4: \n",
      "Chain 4:  Elapsed Time: 3.685 seconds (Warm-up)\n",
      "Chain 4:                2.169 seconds (Sampling)\n",
      "Chain 4:                5.854 seconds (Total)\n",
      "Chain 4: \n"
     ]
    },
    {
     "name": "stderr",
     "output_type": "stream",
     "text": [
      "Warning message:\n",
      "\"There were 12 divergent transitions after warmup. See\n",
      "https://mc-stan.org/misc/warnings.html#divergent-transitions-after-warmup\n",
      "to find out why this is a problem and how to eliminate them.\"\n",
      "Warning message:\n",
      "\"Examine the pairs() plot to diagnose sampling problems\n",
      "\"\n",
      "Warning message:\n",
      "\"Tail Effective Samples Size (ESS) is too low, indicating posterior variances and tail quantiles may be unreliable.\n",
      "Running the chains for more iterations may help. See\n",
      "https://mc-stan.org/misc/warnings.html#tail-ess\"\n",
      "Warning message:\n",
      "\"There were 12 divergent transitions after warmup. Increasing adapt_delta above 0.8 may help. See http://mc-stan.org/misc/warnings.html#divergent-transitions-after-warmup\"\n"
     ]
    },
    {
     "data": {
      "text/plain": [
       " Family: bernoulli \n",
       "  Links: mu = logit \n",
       "Formula: Saved ~ 1 + (1 | Review_political_cat) \n",
       "   Data: data (Number of observations: 2094) \n",
       "  Draws: 4 chains, each with iter = 2000; warmup = 1000; thin = 1;\n",
       "         total post-warmup draws = 4000\n",
       "\n",
       "Multilevel Hyperparameters:\n",
       "~Review_political_cat (Number of levels: 5) \n",
       "              Estimate Est.Error l-95% CI u-95% CI Rhat Bulk_ESS Tail_ESS\n",
       "sd(Intercept)     0.12      0.12     0.01     0.44 1.00      707     1340\n",
       "\n",
       "Regression Coefficients:\n",
       "          Estimate Est.Error l-95% CI u-95% CI Rhat Bulk_ESS Tail_ESS\n",
       "Intercept    -0.16      0.08    -0.33     0.02 1.01      540      234\n",
       "\n",
       "Draws were sampled using sampling(NUTS). For each parameter, Bulk_ESS\n",
       "and Tail_ESS are effective sample size measures, and Rhat is the potential\n",
       "scale reduction factor on split chains (at convergence, Rhat = 1)."
      ]
     },
     "metadata": {},
     "output_type": "display_data"
    }
   ],
   "source": [
    "priors <- c(\n",
    "  prior(normal(0, 1), class = \"Intercept\"), # Prior for the global intercept\n",
    "  prior(student_t(1, 0, 2.5), class = \"sd\") # Prior for standard deviations of random effects\n",
    ")\n",
    "\n",
    "# Define the model\n",
    "model_hierarchical <- brm(\n",
    "  formula = Saved ~ 1 + (1 | Review_political_cat), # Model formula\n",
    "  data = data,\n",
    "  family = bernoulli(\"logit\"), # Assuming 'Saved' is binary; using logistic regression\n",
    "  prior = priors,\n",
    "  chains = 4,\n",
    "  iter = 2000,\n",
    "  seed = 123\n",
    ")\n",
    "\n",
    "# Summary of the model\n",
    "summary(model_hierarchical)"
   ]
  },
  {
   "cell_type": "code",
   "execution_count": 5,
   "metadata": {
    "vscode": {
     "languageId": "r"
    }
   },
   "outputs": [
    {
     "name": "stderr",
     "output_type": "stream",
     "text": [
      "Compiling Stan program...\n",
      "\n",
      "Start sampling\n",
      "\n"
     ]
    },
    {
     "name": "stdout",
     "output_type": "stream",
     "text": [
      "\n",
      "SAMPLING FOR MODEL 'anon_model' NOW (CHAIN 1).\n",
      "Chain 1: \n",
      "Chain 1: Gradient evaluation took 0.000284 seconds\n",
      "Chain 1: 1000 transitions using 10 leapfrog steps per transition would take 2.84 seconds.\n",
      "Chain 1: Adjust your expectations accordingly!\n",
      "Chain 1: \n",
      "Chain 1: \n",
      "Chain 1: Iteration:    1 / 2000 [  0%]  (Warmup)\n",
      "Chain 1: Iteration:  200 / 2000 [ 10%]  (Warmup)\n",
      "Chain 1: Iteration:  400 / 2000 [ 20%]  (Warmup)\n",
      "Chain 1: Iteration:  600 / 2000 [ 30%]  (Warmup)\n",
      "Chain 1: Iteration:  800 / 2000 [ 40%]  (Warmup)\n",
      "Chain 1: Iteration: 1000 / 2000 [ 50%]  (Warmup)\n",
      "Chain 1: Iteration: 1001 / 2000 [ 50%]  (Sampling)\n",
      "Chain 1: Iteration: 1200 / 2000 [ 60%]  (Sampling)\n",
      "Chain 1: Iteration: 1400 / 2000 [ 70%]  (Sampling)\n",
      "Chain 1: Iteration: 1600 / 2000 [ 80%]  (Sampling)\n",
      "Chain 1: Iteration: 1800 / 2000 [ 90%]  (Sampling)\n",
      "Chain 1: Iteration: 2000 / 2000 [100%]  (Sampling)\n",
      "Chain 1: \n",
      "Chain 1:  Elapsed Time: 2.515 seconds (Warm-up)\n",
      "Chain 1:                2.646 seconds (Sampling)\n",
      "Chain 1:                5.161 seconds (Total)\n",
      "Chain 1: \n",
      "\n",
      "SAMPLING FOR MODEL 'anon_model' NOW (CHAIN 2).\n",
      "Chain 2: \n",
      "Chain 2: Gradient evaluation took 0.00025 seconds\n",
      "Chain 2: 1000 transitions using 10 leapfrog steps per transition would take 2.5 seconds.\n",
      "Chain 2: Adjust your expectations accordingly!\n",
      "Chain 2: \n",
      "Chain 2: \n",
      "Chain 2: Iteration:    1 / 2000 [  0%]  (Warmup)\n",
      "Chain 2: Iteration:  200 / 2000 [ 10%]  (Warmup)\n",
      "Chain 2: Iteration:  400 / 2000 [ 20%]  (Warmup)\n",
      "Chain 2: Iteration:  600 / 2000 [ 30%]  (Warmup)\n",
      "Chain 2: Iteration:  800 / 2000 [ 40%]  (Warmup)\n",
      "Chain 2: Iteration: 1000 / 2000 [ 50%]  (Warmup)\n",
      "Chain 2: Iteration: 1001 / 2000 [ 50%]  (Sampling)\n",
      "Chain 2: Iteration: 1200 / 2000 [ 60%]  (Sampling)\n",
      "Chain 2: Iteration: 1400 / 2000 [ 70%]  (Sampling)\n",
      "Chain 2: Iteration: 1600 / 2000 [ 80%]  (Sampling)\n",
      "Chain 2: Iteration: 1800 / 2000 [ 90%]  (Sampling)\n",
      "Chain 2: Iteration: 2000 / 2000 [100%]  (Sampling)\n",
      "Chain 2: \n",
      "Chain 2:  Elapsed Time: 2.498 seconds (Warm-up)\n",
      "Chain 2:                2.933 seconds (Sampling)\n",
      "Chain 2:                5.431 seconds (Total)\n",
      "Chain 2: \n",
      "\n",
      "SAMPLING FOR MODEL 'anon_model' NOW (CHAIN 3).\n",
      "Chain 3: \n",
      "Chain 3: Gradient evaluation took 0.000233 seconds\n",
      "Chain 3: 1000 transitions using 10 leapfrog steps per transition would take 2.33 seconds.\n",
      "Chain 3: Adjust your expectations accordingly!\n",
      "Chain 3: \n",
      "Chain 3: \n",
      "Chain 3: Iteration:    1 / 2000 [  0%]  (Warmup)\n",
      "Chain 3: Iteration:  200 / 2000 [ 10%]  (Warmup)\n",
      "Chain 3: Iteration:  400 / 2000 [ 20%]  (Warmup)\n",
      "Chain 3: Iteration:  600 / 2000 [ 30%]  (Warmup)\n",
      "Chain 3: Iteration:  800 / 2000 [ 40%]  (Warmup)\n",
      "Chain 3: Iteration: 1000 / 2000 [ 50%]  (Warmup)\n",
      "Chain 3: Iteration: 1001 / 2000 [ 50%]  (Sampling)\n",
      "Chain 3: Iteration: 1200 / 2000 [ 60%]  (Sampling)\n",
      "Chain 3: Iteration: 1400 / 2000 [ 70%]  (Sampling)\n",
      "Chain 3: Iteration: 1600 / 2000 [ 80%]  (Sampling)\n",
      "Chain 3: Iteration: 1800 / 2000 [ 90%]  (Sampling)\n",
      "Chain 3: Iteration: 2000 / 2000 [100%]  (Sampling)\n",
      "Chain 3: \n",
      "Chain 3:  Elapsed Time: 3.449 seconds (Warm-up)\n",
      "Chain 3:                1.942 seconds (Sampling)\n",
      "Chain 3:                5.391 seconds (Total)\n",
      "Chain 3: \n",
      "\n",
      "SAMPLING FOR MODEL 'anon_model' NOW (CHAIN 4).\n",
      "Chain 4: \n",
      "Chain 4: Gradient evaluation took 6.1e-05 seconds\n",
      "Chain 4: 1000 transitions using 10 leapfrog steps per transition would take 0.61 seconds.\n",
      "Chain 4: Adjust your expectations accordingly!\n",
      "Chain 4: \n",
      "Chain 4: \n",
      "Chain 4: Iteration:    1 / 2000 [  0%]  (Warmup)\n",
      "Chain 4: Iteration:  200 / 2000 [ 10%]  (Warmup)\n",
      "Chain 4: Iteration:  400 / 2000 [ 20%]  (Warmup)\n",
      "Chain 4: Iteration:  600 / 2000 [ 30%]  (Warmup)\n",
      "Chain 4: Iteration:  800 / 2000 [ 40%]  (Warmup)\n",
      "Chain 4: Iteration: 1000 / 2000 [ 50%]  (Warmup)\n",
      "Chain 4: Iteration: 1001 / 2000 [ 50%]  (Sampling)\n",
      "Chain 4: Iteration: 1200 / 2000 [ 60%]  (Sampling)\n",
      "Chain 4: Iteration: 1400 / 2000 [ 70%]  (Sampling)\n",
      "Chain 4: Iteration: 1600 / 2000 [ 80%]  (Sampling)\n",
      "Chain 4: Iteration: 1800 / 2000 [ 90%]  (Sampling)\n",
      "Chain 4: Iteration: 2000 / 2000 [100%]  (Sampling)\n",
      "Chain 4: \n",
      "Chain 4:  Elapsed Time: 0.728 seconds (Warm-up)\n",
      "Chain 4:                0.76 seconds (Sampling)\n",
      "Chain 4:                1.488 seconds (Total)\n",
      "Chain 4: \n"
     ]
    }
   ],
   "source": [
    "model_non_hierarchical_with <- brm(\n",
    "  formula = Saved ~ 1 + Review_political_cat,  # Intercept and Review_political_cat as fixed effect\n",
    "  data = data,\n",
    "  family = bernoulli(\"logit\"),\n",
    "  prior = c(\n",
    "    prior(normal(0, 1), class = \"Intercept\"),\n",
    "    prior(normal(0, 2.5), class = \"b\")  # Assuming a normal prior for fixed effects\n",
    "  ),\n",
    "  chains = 4,\n",
    "  iter = 2000,\n",
    "  seed = 123\n",
    ")"
   ]
  },
  {
   "cell_type": "code",
   "execution_count": 10,
   "metadata": {
    "vscode": {
     "languageId": "r"
    }
   },
   "outputs": [
    {
     "data": {
      "text/html": [
       "<table class=\"dataframe\">\n",
       "<caption>A compare.loo: 2 × 8 of type dbl</caption>\n",
       "<thead>\n",
       "\t<tr><th></th><th scope=col>elpd_diff</th><th scope=col>se_diff</th><th scope=col>elpd_loo</th><th scope=col>se_elpd_loo</th><th scope=col>p_loo</th><th scope=col>se_p_loo</th><th scope=col>looic</th><th scope=col>se_looic</th></tr>\n",
       "</thead>\n",
       "<tbody>\n",
       "\t<tr><th scope=row>model_hierarchical</th><td> 0.000000</td><td>0.000000</td><td>-1446.203</td><td>3.784092</td><td>2.939388</td><td>0.04206903</td><td>2892.406</td><td>7.568183</td></tr>\n",
       "\t<tr><th scope=row>model_non_hierarchical_with</th><td>-1.141091</td><td>1.428504</td><td>-1447.344</td><td>4.304561</td><td>5.108855</td><td>0.14227439</td><td>2894.688</td><td>8.609122</td></tr>\n",
       "</tbody>\n",
       "</table>\n"
      ],
      "text/latex": [
       "A compare.loo: 2 × 8 of type dbl\n",
       "\\begin{tabular}{r|llllllll}\n",
       "  & elpd\\_diff & se\\_diff & elpd\\_loo & se\\_elpd\\_loo & p\\_loo & se\\_p\\_loo & looic & se\\_looic\\\\\n",
       "\\hline\n",
       "\tmodel\\_hierarchical &  0.000000 & 0.000000 & -1446.203 & 3.784092 & 2.939388 & 0.04206903 & 2892.406 & 7.568183\\\\\n",
       "\tmodel\\_non\\_hierarchical\\_with & -1.141091 & 1.428504 & -1447.344 & 4.304561 & 5.108855 & 0.14227439 & 2894.688 & 8.609122\\\\\n",
       "\\end{tabular}\n"
      ],
      "text/markdown": [
       "\n",
       "A compare.loo: 2 × 8 of type dbl\n",
       "\n",
       "| <!--/--> | elpd_diff | se_diff | elpd_loo | se_elpd_loo | p_loo | se_p_loo | looic | se_looic |\n",
       "|---|---|---|---|---|---|---|---|---|\n",
       "| model_hierarchical |  0.000000 | 0.000000 | -1446.203 | 3.784092 | 2.939388 | 0.04206903 | 2892.406 | 7.568183 |\n",
       "| model_non_hierarchical_with | -1.141091 | 1.428504 | -1447.344 | 4.304561 | 5.108855 | 0.14227439 | 2894.688 | 8.609122 |\n",
       "\n"
      ],
      "text/plain": [
       "                            elpd_diff se_diff  elpd_loo  se_elpd_loo p_loo   \n",
       "model_hierarchical           0.000000 0.000000 -1446.203 3.784092    2.939388\n",
       "model_non_hierarchical_with -1.141091 1.428504 -1447.344 4.304561    5.108855\n",
       "                            se_p_loo   looic    se_looic\n",
       "model_hierarchical          0.04206903 2892.406 7.568183\n",
       "model_non_hierarchical_with 0.14227439 2894.688 8.609122"
      ]
     },
     "metadata": {},
     "output_type": "display_data"
    }
   ],
   "source": [
    "library(loo)\n",
    "\n",
    "# Hierarchical model\n",
    "loo_hierarchical <- loo(model_hierarchical)\n",
    "\n",
    "# Non-hierarchical models\n",
    "loo_non_hierarchical_with <- loo(model_non_hierarchical_with)\n",
    "\n",
    "# Compare models\n",
    "loo_compare(loo_non_hierarchical_with, loo_hierarchical)"
   ]
  }
 ],
 "metadata": {
  "kernelspec": {
   "display_name": "R",
   "language": "R",
   "name": "ir"
  },
  "language_info": {
   "codemirror_mode": "r",
   "file_extension": ".r",
   "mimetype": "text/x-r-source",
   "name": "R",
   "pygments_lexer": "r",
   "version": "4.2.2"
  }
 },
 "nbformat": 4,
 "nbformat_minor": 2
}
