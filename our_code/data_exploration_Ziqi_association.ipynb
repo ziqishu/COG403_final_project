{
 "cells": [
  {
   "cell_type": "code",
   "execution_count": 1,
   "metadata": {},
   "outputs": [
    {
     "name": "stderr",
     "output_type": "stream",
     "text": [
      "C:\\Users\\Ziqi\\AppData\\Local\\Temp\\ipykernel_11996\\1892297274.py:5: DtypeWarning: Columns (21) have mixed types. Specify dtype option on import or set low_memory=False.\n",
      "  df = pd.read_csv('SharedResponsesSurvey.csv')\n"
     ]
    },
    {
     "data": {
      "text/html": [
       "<div>\n",
       "<style scoped>\n",
       "    .dataframe tbody tr th:only-of-type {\n",
       "        vertical-align: middle;\n",
       "    }\n",
       "\n",
       "    .dataframe tbody tr th {\n",
       "        vertical-align: top;\n",
       "    }\n",
       "\n",
       "    .dataframe thead th {\n",
       "        text-align: right;\n",
       "    }\n",
       "</style>\n",
       "<table border=\"1\" class=\"dataframe\">\n",
       "  <thead>\n",
       "    <tr style=\"text-align: right;\">\n",
       "      <th></th>\n",
       "      <th>ResponseID</th>\n",
       "      <th>ExtendedSessionID</th>\n",
       "      <th>UserID</th>\n",
       "      <th>ScenarioOrder</th>\n",
       "      <th>Intervention</th>\n",
       "      <th>PedPed</th>\n",
       "      <th>Barrier</th>\n",
       "      <th>CrossingSignal</th>\n",
       "      <th>AttributeLevel</th>\n",
       "      <th>ScenarioTypeStrict</th>\n",
       "      <th>...</th>\n",
       "      <th>Template</th>\n",
       "      <th>DescriptionShown</th>\n",
       "      <th>LeftHand</th>\n",
       "      <th>UserCountry3</th>\n",
       "      <th>Review_age</th>\n",
       "      <th>Review_education</th>\n",
       "      <th>Review_gender</th>\n",
       "      <th>Review_income</th>\n",
       "      <th>Review_political</th>\n",
       "      <th>Review_religious</th>\n",
       "    </tr>\n",
       "  </thead>\n",
       "  <tbody>\n",
       "    <tr>\n",
       "      <th>0</th>\n",
       "      <td>3ubu5Minm7ygqK3oa</td>\n",
       "      <td>-2147481563_6968366610050747.0</td>\n",
       "      <td>6.968367e+15</td>\n",
       "      <td>13</td>\n",
       "      <td>0</td>\n",
       "      <td>0</td>\n",
       "      <td>0</td>\n",
       "      <td>0</td>\n",
       "      <td>Female</td>\n",
       "      <td>Gender</td>\n",
       "      <td>...</td>\n",
       "      <td>Desktop</td>\n",
       "      <td>0.0</td>\n",
       "      <td>0.0</td>\n",
       "      <td>RUS</td>\n",
       "      <td>32.0</td>\n",
       "      <td>bachelor</td>\n",
       "      <td>male</td>\n",
       "      <td>35000</td>\n",
       "      <td>0.5</td>\n",
       "      <td>0.61</td>\n",
       "    </tr>\n",
       "    <tr>\n",
       "      <th>1</th>\n",
       "      <td>FKd9Fje2tWt2sHi6v</td>\n",
       "      <td>-2147481563_6968366610050747.0</td>\n",
       "      <td>6.968367e+15</td>\n",
       "      <td>8</td>\n",
       "      <td>0</td>\n",
       "      <td>1</td>\n",
       "      <td>0</td>\n",
       "      <td>0</td>\n",
       "      <td>Fat</td>\n",
       "      <td>Fitness</td>\n",
       "      <td>...</td>\n",
       "      <td>Desktop</td>\n",
       "      <td>0.0</td>\n",
       "      <td>0.0</td>\n",
       "      <td>RUS</td>\n",
       "      <td>32.0</td>\n",
       "      <td>bachelor</td>\n",
       "      <td>male</td>\n",
       "      <td>35000</td>\n",
       "      <td>0.5</td>\n",
       "      <td>0.61</td>\n",
       "    </tr>\n",
       "    <tr>\n",
       "      <th>2</th>\n",
       "      <td>J6WRHLj8exr4bNwTm</td>\n",
       "      <td>-2147481563_6968366610050747.0</td>\n",
       "      <td>6.968367e+15</td>\n",
       "      <td>2</td>\n",
       "      <td>0</td>\n",
       "      <td>0</td>\n",
       "      <td>0</td>\n",
       "      <td>2</td>\n",
       "      <td>Young</td>\n",
       "      <td>Age</td>\n",
       "      <td>...</td>\n",
       "      <td>Desktop</td>\n",
       "      <td>0.0</td>\n",
       "      <td>1.0</td>\n",
       "      <td>RUS</td>\n",
       "      <td>32.0</td>\n",
       "      <td>bachelor</td>\n",
       "      <td>male</td>\n",
       "      <td>35000</td>\n",
       "      <td>0.5</td>\n",
       "      <td>0.61</td>\n",
       "    </tr>\n",
       "    <tr>\n",
       "      <th>3</th>\n",
       "      <td>KcYXwqS3rTrbqdTY2</td>\n",
       "      <td>-2147481563_6968366610050747.0</td>\n",
       "      <td>6.968367e+15</td>\n",
       "      <td>1</td>\n",
       "      <td>0</td>\n",
       "      <td>1</td>\n",
       "      <td>0</td>\n",
       "      <td>2</td>\n",
       "      <td>Pets</td>\n",
       "      <td>Species</td>\n",
       "      <td>...</td>\n",
       "      <td>Desktop</td>\n",
       "      <td>0.0</td>\n",
       "      <td>1.0</td>\n",
       "      <td>RUS</td>\n",
       "      <td>32.0</td>\n",
       "      <td>bachelor</td>\n",
       "      <td>male</td>\n",
       "      <td>35000</td>\n",
       "      <td>0.5</td>\n",
       "      <td>0.61</td>\n",
       "    </tr>\n",
       "    <tr>\n",
       "      <th>4</th>\n",
       "      <td>ZQsAWst58jK9HcKvx</td>\n",
       "      <td>-2147481563_6968366610050747.0</td>\n",
       "      <td>6.968367e+15</td>\n",
       "      <td>5</td>\n",
       "      <td>0</td>\n",
       "      <td>1</td>\n",
       "      <td>0</td>\n",
       "      <td>0</td>\n",
       "      <td>Fit</td>\n",
       "      <td>Fitness</td>\n",
       "      <td>...</td>\n",
       "      <td>Desktop</td>\n",
       "      <td>0.0</td>\n",
       "      <td>1.0</td>\n",
       "      <td>RUS</td>\n",
       "      <td>32.0</td>\n",
       "      <td>bachelor</td>\n",
       "      <td>male</td>\n",
       "      <td>35000</td>\n",
       "      <td>0.5</td>\n",
       "      <td>0.61</td>\n",
       "    </tr>\n",
       "  </tbody>\n",
       "</table>\n",
       "<p>5 rows × 27 columns</p>\n",
       "</div>"
      ],
      "text/plain": [
       "          ResponseID               ExtendedSessionID        UserID  \\\n",
       "0  3ubu5Minm7ygqK3oa  -2147481563_6968366610050747.0  6.968367e+15   \n",
       "1  FKd9Fje2tWt2sHi6v  -2147481563_6968366610050747.0  6.968367e+15   \n",
       "2  J6WRHLj8exr4bNwTm  -2147481563_6968366610050747.0  6.968367e+15   \n",
       "3  KcYXwqS3rTrbqdTY2  -2147481563_6968366610050747.0  6.968367e+15   \n",
       "4  ZQsAWst58jK9HcKvx  -2147481563_6968366610050747.0  6.968367e+15   \n",
       "\n",
       "   ScenarioOrder  Intervention  PedPed  Barrier  CrossingSignal  \\\n",
       "0             13             0       0        0               0   \n",
       "1              8             0       1        0               0   \n",
       "2              2             0       0        0               2   \n",
       "3              1             0       1        0               2   \n",
       "4              5             0       1        0               0   \n",
       "\n",
       "  AttributeLevel ScenarioTypeStrict  ... Template DescriptionShown LeftHand  \\\n",
       "0         Female             Gender  ...  Desktop              0.0      0.0   \n",
       "1            Fat            Fitness  ...  Desktop              0.0      0.0   \n",
       "2          Young                Age  ...  Desktop              0.0      1.0   \n",
       "3           Pets            Species  ...  Desktop              0.0      1.0   \n",
       "4            Fit            Fitness  ...  Desktop              0.0      1.0   \n",
       "\n",
       "   UserCountry3  Review_age  Review_education  Review_gender Review_income  \\\n",
       "0           RUS        32.0          bachelor           male         35000   \n",
       "1           RUS        32.0          bachelor           male         35000   \n",
       "2           RUS        32.0          bachelor           male         35000   \n",
       "3           RUS        32.0          bachelor           male         35000   \n",
       "4           RUS        32.0          bachelor           male         35000   \n",
       "\n",
       "   Review_political  Review_religious  \n",
       "0               0.5              0.61  \n",
       "1               0.5              0.61  \n",
       "2               0.5              0.61  \n",
       "3               0.5              0.61  \n",
       "4               0.5              0.61  \n",
       "\n",
       "[5 rows x 27 columns]"
      ]
     },
     "execution_count": 1,
     "metadata": {},
     "output_type": "execute_result"
    }
   ],
   "source": [
    "import numpy as np\n",
    "import pandas as pd\n",
    "import matplotlib.pyplot as plt\n",
    "\n",
    "df = pd.read_csv('SharedResponsesSurvey.csv')\n",
    "df.head()"
   ]
  },
  {
   "cell_type": "code",
   "execution_count": 2,
   "metadata": {},
   "outputs": [
    {
     "name": "stdout",
     "output_type": "stream",
     "text": [
      "<class 'pandas.core.frame.DataFrame'>\n",
      "RangeIndex: 11286141 entries, 0 to 11286140\n",
      "Data columns (total 27 columns):\n",
      " #   Column                   Dtype  \n",
      "---  ------                   -----  \n",
      " 0   ResponseID               object \n",
      " 1   ExtendedSessionID        object \n",
      " 2   UserID                   float64\n",
      " 3   ScenarioOrder            int64  \n",
      " 4   Intervention             int64  \n",
      " 5   PedPed                   int64  \n",
      " 6   Barrier                  int64  \n",
      " 7   CrossingSignal           int64  \n",
      " 8   AttributeLevel           object \n",
      " 9   ScenarioTypeStrict       object \n",
      " 10  ScenarioType             object \n",
      " 11  DefaultChoice            object \n",
      " 12  NonDefaultChoice         object \n",
      " 13  DefaultChoiceIsOmission  float64\n",
      " 14  NumberOfCharacters       int64  \n",
      " 15  DiffNumberOFCharacters   int64  \n",
      " 16  Saved                    int64  \n",
      " 17  Template                 object \n",
      " 18  DescriptionShown         float64\n",
      " 19  LeftHand                 float64\n",
      " 20  UserCountry3             object \n",
      " 21  Review_age               object \n",
      " 22  Review_education         object \n",
      " 23  Review_gender            object \n",
      " 24  Review_income            object \n",
      " 25  Review_political         float64\n",
      " 26  Review_religious         float64\n",
      "dtypes: float64(6), int64(8), object(13)\n",
      "memory usage: 2.3+ GB\n"
     ]
    }
   ],
   "source": [
    "df.info()"
   ]
  },
  {
   "cell_type": "markdown",
   "metadata": {},
   "source": [
    "# Clearn Data For Propotion"
   ]
  },
  {
   "cell_type": "code",
   "execution_count": 3,
   "metadata": {},
   "outputs": [
    {
     "data": {
      "text/html": [
       "<div>\n",
       "<style scoped>\n",
       "    .dataframe tbody tr th:only-of-type {\n",
       "        vertical-align: middle;\n",
       "    }\n",
       "\n",
       "    .dataframe tbody tr th {\n",
       "        vertical-align: top;\n",
       "    }\n",
       "\n",
       "    .dataframe thead th {\n",
       "        text-align: right;\n",
       "    }\n",
       "</style>\n",
       "<table border=\"1\" class=\"dataframe\">\n",
       "  <thead>\n",
       "    <tr style=\"text-align: right;\">\n",
       "      <th></th>\n",
       "      <th>Review_political</th>\n",
       "      <th>Review_gender</th>\n",
       "      <th>AttributeLevel</th>\n",
       "      <th>Saved</th>\n",
       "      <th>ResponseID</th>\n",
       "      <th>UserID</th>\n",
       "    </tr>\n",
       "  </thead>\n",
       "  <tbody>\n",
       "    <tr>\n",
       "      <th>0</th>\n",
       "      <td>0.5</td>\n",
       "      <td>male</td>\n",
       "      <td>Female</td>\n",
       "      <td>1</td>\n",
       "      <td>3ubu5Minm7ygqK3oa</td>\n",
       "      <td>6.968367e+15</td>\n",
       "    </tr>\n",
       "    <tr>\n",
       "      <th>1</th>\n",
       "      <td>0.5</td>\n",
       "      <td>male</td>\n",
       "      <td>Fat</td>\n",
       "      <td>0</td>\n",
       "      <td>FKd9Fje2tWt2sHi6v</td>\n",
       "      <td>6.968367e+15</td>\n",
       "    </tr>\n",
       "    <tr>\n",
       "      <th>2</th>\n",
       "      <td>0.5</td>\n",
       "      <td>male</td>\n",
       "      <td>Young</td>\n",
       "      <td>0</td>\n",
       "      <td>J6WRHLj8exr4bNwTm</td>\n",
       "      <td>6.968367e+15</td>\n",
       "    </tr>\n",
       "    <tr>\n",
       "      <th>3</th>\n",
       "      <td>0.5</td>\n",
       "      <td>male</td>\n",
       "      <td>Pets</td>\n",
       "      <td>0</td>\n",
       "      <td>KcYXwqS3rTrbqdTY2</td>\n",
       "      <td>6.968367e+15</td>\n",
       "    </tr>\n",
       "    <tr>\n",
       "      <th>4</th>\n",
       "      <td>0.5</td>\n",
       "      <td>male</td>\n",
       "      <td>Fit</td>\n",
       "      <td>0</td>\n",
       "      <td>ZQsAWst58jK9HcKvx</td>\n",
       "      <td>6.968367e+15</td>\n",
       "    </tr>\n",
       "  </tbody>\n",
       "</table>\n",
       "</div>"
      ],
      "text/plain": [
       "   Review_political Review_gender AttributeLevel  Saved         ResponseID  \\\n",
       "0               0.5          male         Female      1  3ubu5Minm7ygqK3oa   \n",
       "1               0.5          male            Fat      0  FKd9Fje2tWt2sHi6v   \n",
       "2               0.5          male          Young      0  J6WRHLj8exr4bNwTm   \n",
       "3               0.5          male           Pets      0  KcYXwqS3rTrbqdTY2   \n",
       "4               0.5          male            Fit      0  ZQsAWst58jK9HcKvx   \n",
       "\n",
       "         UserID  \n",
       "0  6.968367e+15  \n",
       "1  6.968367e+15  \n",
       "2  6.968367e+15  \n",
       "3  6.968367e+15  \n",
       "4  6.968367e+15  "
      ]
     },
     "execution_count": 3,
     "metadata": {},
     "output_type": "execute_result"
    }
   ],
   "source": [
    "# only keep the columns we need 'Review_political', 'AttributeLevel', 'Saved'\n",
    "df = df[['Review_political', 'Review_gender', 'AttributeLevel', 'Saved', 'ResponseID', 'UserID']]\n",
    "df.head()"
   ]
  },
  {
   "cell_type": "code",
   "execution_count": 4,
   "metadata": {},
   "outputs": [
    {
     "name": "stdout",
     "output_type": "stream",
     "text": [
      "['Female' 'Fat' 'Young' 'Pets' 'Fit' 'Rand' 'More' 'Old' 'Hoomans' 'Low'\n",
      " 'Male' 'Less' 'High']\n"
     ]
    }
   ],
   "source": [
    "# print the unique values of 'AttributeLevel'\n",
    "print(df['AttributeLevel'].unique())"
   ]
  },
  {
   "cell_type": "code",
   "execution_count": 5,
   "metadata": {},
   "outputs": [],
   "source": [
    "# remove the rows with 'AttributeLevel' == 'Rand'\n",
    "df = df[df['AttributeLevel'] != 'Rand']"
   ]
  },
  {
   "cell_type": "code",
   "execution_count": 6,
   "metadata": {},
   "outputs": [
    {
     "name": "stdout",
     "output_type": "stream",
     "text": [
      "<class 'pandas.core.frame.DataFrame'>\n",
      "Index: 10084327 entries, 0 to 11286139\n",
      "Data columns (total 6 columns):\n",
      " #   Column            Dtype  \n",
      "---  ------            -----  \n",
      " 0   Review_political  float64\n",
      " 1   Review_gender     object \n",
      " 2   AttributeLevel    object \n",
      " 3   Saved             int64  \n",
      " 4   ResponseID        object \n",
      " 5   UserID            float64\n",
      "dtypes: float64(2), int64(1), object(3)\n",
      "memory usage: 538.6+ MB\n"
     ]
    }
   ],
   "source": [
    "df.info()"
   ]
  },
  {
   "cell_type": "code",
   "execution_count": 7,
   "metadata": {},
   "outputs": [
    {
     "data": {
      "text/html": [
       "<div>\n",
       "<style scoped>\n",
       "    .dataframe tbody tr th:only-of-type {\n",
       "        vertical-align: middle;\n",
       "    }\n",
       "\n",
       "    .dataframe tbody tr th {\n",
       "        vertical-align: top;\n",
       "    }\n",
       "\n",
       "    .dataframe thead th {\n",
       "        text-align: right;\n",
       "    }\n",
       "</style>\n",
       "<table border=\"1\" class=\"dataframe\">\n",
       "  <thead>\n",
       "    <tr style=\"text-align: right;\">\n",
       "      <th></th>\n",
       "      <th>Review_political</th>\n",
       "      <th>Review_gender</th>\n",
       "      <th>AttributeLevel</th>\n",
       "      <th>Saved</th>\n",
       "      <th>ResponseID</th>\n",
       "      <th>UserID</th>\n",
       "      <th>Review_political_cat</th>\n",
       "    </tr>\n",
       "  </thead>\n",
       "  <tbody>\n",
       "    <tr>\n",
       "      <th>0</th>\n",
       "      <td>0.5</td>\n",
       "      <td>male</td>\n",
       "      <td>Female</td>\n",
       "      <td>1</td>\n",
       "      <td>3ubu5Minm7ygqK3oa</td>\n",
       "      <td>6.968367e+15</td>\n",
       "      <td>Center</td>\n",
       "    </tr>\n",
       "    <tr>\n",
       "      <th>1</th>\n",
       "      <td>0.5</td>\n",
       "      <td>male</td>\n",
       "      <td>Fat</td>\n",
       "      <td>0</td>\n",
       "      <td>FKd9Fje2tWt2sHi6v</td>\n",
       "      <td>6.968367e+15</td>\n",
       "      <td>Center</td>\n",
       "    </tr>\n",
       "    <tr>\n",
       "      <th>2</th>\n",
       "      <td>0.5</td>\n",
       "      <td>male</td>\n",
       "      <td>Young</td>\n",
       "      <td>0</td>\n",
       "      <td>J6WRHLj8exr4bNwTm</td>\n",
       "      <td>6.968367e+15</td>\n",
       "      <td>Center</td>\n",
       "    </tr>\n",
       "    <tr>\n",
       "      <th>3</th>\n",
       "      <td>0.5</td>\n",
       "      <td>male</td>\n",
       "      <td>Pets</td>\n",
       "      <td>0</td>\n",
       "      <td>KcYXwqS3rTrbqdTY2</td>\n",
       "      <td>6.968367e+15</td>\n",
       "      <td>Center</td>\n",
       "    </tr>\n",
       "    <tr>\n",
       "      <th>4</th>\n",
       "      <td>0.5</td>\n",
       "      <td>male</td>\n",
       "      <td>Fit</td>\n",
       "      <td>0</td>\n",
       "      <td>ZQsAWst58jK9HcKvx</td>\n",
       "      <td>6.968367e+15</td>\n",
       "      <td>Center</td>\n",
       "    </tr>\n",
       "  </tbody>\n",
       "</table>\n",
       "</div>"
      ],
      "text/plain": [
       "   Review_political Review_gender AttributeLevel  Saved         ResponseID  \\\n",
       "0               0.5          male         Female      1  3ubu5Minm7ygqK3oa   \n",
       "1               0.5          male            Fat      0  FKd9Fje2tWt2sHi6v   \n",
       "2               0.5          male          Young      0  J6WRHLj8exr4bNwTm   \n",
       "3               0.5          male           Pets      0  KcYXwqS3rTrbqdTY2   \n",
       "4               0.5          male            Fit      0  ZQsAWst58jK9HcKvx   \n",
       "\n",
       "         UserID Review_political_cat  \n",
       "0  6.968367e+15               Center  \n",
       "1  6.968367e+15               Center  \n",
       "2  6.968367e+15               Center  \n",
       "3  6.968367e+15               Center  \n",
       "4  6.968367e+15               Center  "
      ]
     },
     "execution_count": 7,
     "metadata": {},
     "output_type": "execute_result"
    }
   ],
   "source": [
    "# add a new column 'Review_political_cat' to convert 'Review_political' to a categorical variable\n",
    "\n",
    "# 0-0.2: 'Left\n",
    "# 0.2-0.4: 'Left Center'\n",
    "# 0.4-0.6: 'Center'\n",
    "# 0.6-0.8: 'Right Center'\n",
    "# 0.8-1: 'Right'\n",
    "\n",
    "df['Review_political_cat'] = pd.cut(df['Review_political'], bins=[0, 0.2, 0.4, 0.6, 0.8, 1], labels=['Left', 'Left Center', 'Center', 'Right Center', 'Right'])\n",
    "df.head()\n"
   ]
  },
  {
   "cell_type": "code",
   "execution_count": 9,
   "metadata": {},
   "outputs": [
    {
     "data": {
      "text/plain": [
       "Review_gender\n",
       "male                 6361594\n",
       "female               2506569\n",
       "default               989729\n",
       "others                226338\n",
       "apache helicopter         21\n",
       "Name: count, dtype: int64"
      ]
     },
     "execution_count": 9,
     "metadata": {},
     "output_type": "execute_result"
    }
   ],
   "source": [
    "df['Review_gender'].value_counts()"
   ]
  },
  {
   "cell_type": "code",
   "execution_count": 10,
   "metadata": {},
   "outputs": [
    {
     "name": "stdout",
     "output_type": "stream",
     "text": [
      "<class 'pandas.core.frame.DataFrame'>\n",
      "RangeIndex: 5239552 entries, 0 to 5239551\n",
      "Data columns (total 7 columns):\n",
      " #   Column                Dtype   \n",
      "---  ------                -----   \n",
      " 0   Review_political      float64 \n",
      " 1   Review_gender         object  \n",
      " 2   AttributeLevel        object  \n",
      " 3   Saved                 int64   \n",
      " 4   ResponseID            object  \n",
      " 5   UserID                float64 \n",
      " 6   Review_political_cat  category\n",
      "dtypes: category(1), float64(2), int64(1), object(3)\n",
      "memory usage: 244.8+ MB\n"
     ]
    }
   ],
   "source": [
    "# delete the rows with Review_gender as 'default' and 'apache helicopter'\n",
    "df = df[df['Review_gender'] != 'default']\n",
    "df = df[df['Review_gender'] != 'apache helicopter']\n",
    "\n",
    "# create a new df without Review_gender as 'male'\n",
    "df_without_male = df[df['Review_gender'] != 'male']\n",
    "\n",
    "n_female = len(df[df['Review_gender'] == 'female'])\n",
    "\n",
    "# randomly select the n_female rows from df where Review_gender is male\n",
    "df_male = df[df['Review_gender'] == 'male'].sample(n=n_female)\n",
    "\n",
    "# combine df_without_male and df_male\n",
    "df_combined = pd.concat([df_without_male, df_male], ignore_index=True)\n",
    "\n",
    "df_combined.info()"
   ]
  },
  {
   "cell_type": "code",
   "execution_count": 12,
   "metadata": {},
   "outputs": [
    {
     "data": {
      "text/plain": [
       "Review_gender\n",
       "female    2506569\n",
       "male      2506569\n",
       "others     226338\n",
       "Name: count, dtype: int64"
      ]
     },
     "execution_count": 12,
     "metadata": {},
     "output_type": "execute_result"
    }
   ],
   "source": [
    "df_combined['Review_gender'].value_counts()"
   ]
  },
  {
   "cell_type": "code",
   "execution_count": 13,
   "metadata": {},
   "outputs": [
    {
     "data": {
      "text/plain": [
       "Review_political_cat\n",
       "Center          2059275\n",
       "Right           1347922\n",
       "Right Center    1038235\n",
       "Left Center      390568\n",
       "Left             152468\n",
       "Name: count, dtype: int64"
      ]
     },
     "execution_count": 13,
     "metadata": {},
     "output_type": "execute_result"
    }
   ],
   "source": [
    "# rows for each unique Review_political_cat\n",
    "df_combined['Review_political_cat'].value_counts()"
   ]
  },
  {
   "cell_type": "code",
   "execution_count": 14,
   "metadata": {},
   "outputs": [],
   "source": [
    "df_combined.to_csv('data_propotion/SharedResponsesSurvey_propotion.csv', index=False)"
   ]
  },
  {
   "cell_type": "code",
   "execution_count": 13,
   "metadata": {},
   "outputs": [],
   "source": [
    "# Random sample the row so that each review_political_cat has the 294043 rows\n",
    "df = df.groupby('Review_political_cat').apply(lambda x: x.sample(294043)).reset_index(drop=True)"
   ]
  },
  {
   "cell_type": "markdown",
   "metadata": {},
   "source": [
    "TODO: delete the following"
   ]
  },
  {
   "cell_type": "code",
   "execution_count": 15,
   "metadata": {},
   "outputs": [
    {
     "data": {
      "text/plain": [
       "Review_political_cat  AttributeLevel\n",
       "Left                  Less              29670\n",
       "                      More              29670\n",
       "                      Pets              28038\n",
       "                      Hoomans           28038\n",
       "                      Male              27989\n",
       "                      Female            27989\n",
       "                      Young             27076\n",
       "                      Old               27076\n",
       "                      Fat               25211\n",
       "                      Fit               25211\n",
       "                      High              10543\n",
       "                      Low                7532\n",
       "Left Center           More              29794\n",
       "                      Less              29622\n",
       "                      Hoomans           28366\n",
       "                      Female            28021\n",
       "                      Pets              27967\n",
       "                      Male              27735\n",
       "                      Old               27166\n",
       "                      Young             26591\n",
       "                      Fat               25360\n",
       "                      Fit               25250\n",
       "                      High              10596\n",
       "                      Low                7575\n",
       "Center                Less              29763\n",
       "                      More              29727\n",
       "                      Pets              28140\n",
       "                      Female            28132\n",
       "                      Male              28101\n",
       "                      Hoomans           27797\n",
       "                      Young             27098\n",
       "                      Old               27055\n",
       "                      Fit               25242\n",
       "                      Fat               24966\n",
       "                      High              10537\n",
       "                      Low                7485\n",
       "Right Center          More              29749\n",
       "                      Less              29362\n",
       "                      Hoomans           28267\n",
       "                      Pets              28033\n",
       "                      Male              27995\n",
       "                      Female            27976\n",
       "                      Old               27291\n",
       "                      Young             26783\n",
       "                      Fit               25331\n",
       "                      Fat               25182\n",
       "                      High              10458\n",
       "                      Low                7616\n",
       "Right                 Less              29728\n",
       "                      More              29640\n",
       "                      Male              28076\n",
       "                      Hoomans           27897\n",
       "                      Female            27875\n",
       "                      Pets              27763\n",
       "                      Young             27252\n",
       "                      Old               27145\n",
       "                      Fat               25431\n",
       "                      Fit               25083\n",
       "                      High              10617\n",
       "                      Low                7536\n",
       "Name: count, dtype: int64"
      ]
     },
     "execution_count": 15,
     "metadata": {},
     "output_type": "execute_result"
    }
   ],
   "source": [
    "# for each unique 'Review_political_cat', print the number of rows for each unique 'AttributeLevel'\n",
    "df.groupby('Review_political_cat')['AttributeLevel'].value_counts()"
   ]
  },
  {
   "cell_type": "code",
   "execution_count": 16,
   "metadata": {},
   "outputs": [
    {
     "data": {
      "text/plain": [
       "AttributeLevel  Review_political_cat\n",
       "Fat             Right                   25431\n",
       "                Left Center             25360\n",
       "                Left                    25211\n",
       "                Right Center            25182\n",
       "                Center                  24966\n",
       "Female          Center                  28132\n",
       "                Left Center             28021\n",
       "                Left                    27989\n",
       "                Right Center            27976\n",
       "                Right                   27875\n",
       "Fit             Right Center            25331\n",
       "                Left Center             25250\n",
       "                Center                  25242\n",
       "                Left                    25211\n",
       "                Right                   25083\n",
       "High            Right                   10617\n",
       "                Left Center             10596\n",
       "                Left                    10543\n",
       "                Center                  10537\n",
       "                Right Center            10458\n",
       "Hoomans         Left Center             28366\n",
       "                Right Center            28267\n",
       "                Left                    28038\n",
       "                Right                   27897\n",
       "                Center                  27797\n",
       "Less            Center                  29763\n",
       "                Right                   29728\n",
       "                Left                    29670\n",
       "                Left Center             29622\n",
       "                Right Center            29362\n",
       "Low             Right Center             7616\n",
       "                Left Center              7575\n",
       "                Right                    7536\n",
       "                Left                     7532\n",
       "                Center                   7485\n",
       "Male            Center                  28101\n",
       "                Right                   28076\n",
       "                Right Center            27995\n",
       "                Left                    27989\n",
       "                Left Center             27735\n",
       "More            Left Center             29794\n",
       "                Right Center            29749\n",
       "                Center                  29727\n",
       "                Left                    29670\n",
       "                Right                   29640\n",
       "Old             Right Center            27291\n",
       "                Left Center             27166\n",
       "                Right                   27145\n",
       "                Left                    27076\n",
       "                Center                  27055\n",
       "Pets            Center                  28140\n",
       "                Left                    28038\n",
       "                Right Center            28033\n",
       "                Left Center             27967\n",
       "                Right                   27763\n",
       "Young           Right                   27252\n",
       "                Center                  27098\n",
       "                Left                    27076\n",
       "                Right Center            26783\n",
       "                Left Center             26591\n",
       "Name: count, dtype: int64"
      ]
     },
     "execution_count": 16,
     "metadata": {},
     "output_type": "execute_result"
    }
   ],
   "source": [
    "# for each unique AttributeLevel, print the number of rows for each unique 'Review_political_cat'\n",
    "df.groupby('AttributeLevel')['Review_political_cat'].value_counts()"
   ]
  },
  {
   "cell_type": "code",
   "execution_count": 23,
   "metadata": {},
   "outputs": [],
   "source": [
    "# create 6 new df\n",
    "\n",
    "# first df: keep all rows from df that 'AttributeLevel' == 'Female' or 'Male', Name the csv as 'Gender'\n",
    "df_gender = df[df['AttributeLevel'] == 'Female']\n",
    "# append the rows from df that 'AttributeLevel' == Male\n",
    "\n",
    "\n",
    "\n",
    "\n",
    "\n",
    "# # second: young vs old\n",
    "# df_age = df[df['AttributeLevel'] == 'Young' | df['AttributeLevel'] == 'Old']\n",
    "# # third: fit vs fat\n",
    "# df_fitness = df[df['AttributeLevel'] == 'Fit' | df['AttributeLevel'] == 'Fat']\n",
    "# # fourth: high vs low income\n",
    "# df_status = df[df['AttributeLevel'] == 'High' | df['AttributeLevel'] == 'Low']\n",
    "# # fifth: Hoomans vs Pets\n",
    "# df_species = df[df['AttributeLevel'] == 'Hoomans' | df['AttributeLevel'] == 'Pet']\n",
    "# # sixth: More vs Less\n",
    "# df_utilitarian = df[df['AttributeLevel'] == 'More' | df['AttributeLevel'] == 'Less']\n",
    "\n",
    "# # save the 6 new df as csv\n",
    "# df_gender.to_csv('Gender.csv', index=False)\n",
    "# df_age.to_csv('Age.csv', index=False)\n",
    "# df_fitness.to_csv('Fitness.csv', index=False)\n",
    "# df_status.to_csv('Status.csv', index=False)\n",
    "# df_species.to_csv('Species.csv', index=False)\n",
    "# df_utilitarian.to_csv('Utilitarian.csv', index=False)\n",
    "\n",
    "# # save the original df as csv\n",
    "df.to_csv('SharedResponsesSurvey_cleaned_association.csv', index=False)"
   ]
  },
  {
   "cell_type": "code",
   "execution_count": 14,
   "metadata": {},
   "outputs": [
    {
     "name": "stdout",
     "output_type": "stream",
     "text": [
      "<class 'pandas.core.frame.DataFrame'>\n",
      "RangeIndex: 1470215 entries, 0 to 1470214\n",
      "Data columns (total 6 columns):\n",
      " #   Column                Non-Null Count    Dtype   \n",
      "---  ------                --------------    -----   \n",
      " 0   Review_political      1470215 non-null  float64 \n",
      " 1   AttributeLevel        1470215 non-null  object  \n",
      " 2   Saved                 1470215 non-null  int64   \n",
      " 3   ResponseID            1470215 non-null  object  \n",
      " 4   UserID                1470215 non-null  float64 \n",
      " 5   Review_political_cat  1470215 non-null  category\n",
      "dtypes: category(1), float64(2), int64(1), object(2)\n",
      "memory usage: 57.5+ MB\n"
     ]
    }
   ],
   "source": [
    "df.info()"
   ]
  },
  {
   "cell_type": "code",
   "execution_count": 3,
   "metadata": {},
   "outputs": [
    {
     "data": {
      "text/plain": [
       "array([0.5 , 0.65, 0.68, 0.81, 1.  , 0.93, 0.83, 0.63, 0.  , 0.82, 0.39,\n",
       "       0.59, 0.61, 0.76, 0.91, 0.86, 0.3 , 0.38, 0.32, 0.64, 0.89, 0.99,\n",
       "       0.72, 0.35, 0.58, 0.79, 0.75, 0.71, 0.78, 0.7 , 0.77, 0.24, 0.97,\n",
       "       0.73, 0.84, 0.09, 0.62, 0.19, 0.87, 0.57, 0.28, 0.36, 0.6 , 0.2 ,\n",
       "       0.42, 0.17, 0.51, 0.34, 0.88, 0.56, 0.74, 0.49, 0.92, 0.4 , 0.47,\n",
       "       0.26, 0.18, 0.04, 0.66, 0.37, 0.85, 0.46, 0.94, 0.8 , 0.25, 0.31,\n",
       "       0.41, 0.33, 0.29, 0.13, 0.96, 0.54, 0.14, 0.1 , 0.44, 0.03, 0.48,\n",
       "       0.53, 0.15, 0.21, 0.69, 0.67, 0.45, 0.43, 0.22, 0.12, 0.55, 0.27,\n",
       "       0.52, 0.23, 0.16, 0.95, 0.9 , 0.06, 0.11, 0.98, 0.01, 0.05, 0.08,\n",
       "       0.07, 0.02])"
      ]
     },
     "execution_count": 3,
     "metadata": {},
     "output_type": "execute_result"
    }
   ],
   "source": [
    "# unique values of review_political\n",
    "df['Review_political'].unique()"
   ]
  }
 ],
 "metadata": {
  "kernelspec": {
   "display_name": "Python 3",
   "language": "python",
   "name": "python3"
  },
  "language_info": {
   "codemirror_mode": {
    "name": "ipython",
    "version": 3
   },
   "file_extension": ".py",
   "mimetype": "text/x-python",
   "name": "python",
   "nbconvert_exporter": "python",
   "pygments_lexer": "ipython3",
   "version": "3.10.7"
  }
 },
 "nbformat": 4,
 "nbformat_minor": 2
}
